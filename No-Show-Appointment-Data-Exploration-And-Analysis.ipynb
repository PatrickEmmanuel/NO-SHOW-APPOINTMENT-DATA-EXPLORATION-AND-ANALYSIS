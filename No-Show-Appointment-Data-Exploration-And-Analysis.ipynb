{
 "cells": [
  {
   "cell_type": "markdown",
   "id": "ffb58ec5",
   "metadata": {},
   "source": [
    "# Project: No Show Data Analysis\n",
    "\n",
    "## Table of Contents\n",
    "<ul>\n",
    "<li><a href=\"#intro\">Introduction</a></li>\n",
    "<li><a href=\"#wrangling\">Data Wrangling</a></li>\n",
    "<li><a href=\"#eda\">Exploratory Data Analysis</a></li>\n",
    "<li><a href=\"#conclusions\">Conclusions</a></li>\n",
    "</ul>"
   ]
  },
  {
   "cell_type": "markdown",
   "id": "c58dabd3",
   "metadata": {},
   "source": [
    "## Introduction\n",
    "\n",
    "> The dataset is a collection of information regarding the medical appointments of more than 100k patients in Brazil. Particularly, we would try to understand critical factors that are responsible for whether a patient would show up for their scheduled appointment. The questions we would try answer are \n",
    ">1. Does the scheduled day of appointment determines  whether a patient would show up for their appointment or not?\n",
    ">2. Are patients with critical health(s) condition more likely to show up for their appointment?\n",
    ">3. Does the neighborhood or location of the hospital a critical factor in patients showing up for their appointment?\n",
    ">4. Are patients enrolled in the social welfare program more likely to keep their appointment?"
   ]
  },
  {
   "cell_type": "code",
   "execution_count": 1,
   "id": "b5006fac",
   "metadata": {
    "ExecuteTime": {
     "end_time": "2022-11-09T14:51:10.920531Z",
     "start_time": "2022-11-09T14:50:29.187914Z"
    }
   },
   "outputs": [],
   "source": [
    "# All the necessary packages for this analysis are imported below\n",
    "import pandas as pd\n",
    "import numpy as np\n",
    "import matplotlib.pyplot as plt\n",
    "import seaborn as sns\n",
    "%matplotlib inline"
   ]
  },
  {
   "cell_type": "markdown",
   "id": "eb15e6b8",
   "metadata": {},
   "source": [
    "<a id='wrangling'></a>\n",
    "## Data Wrangling\n",
    "\n",
    "\n",
    ">### General Properties"
   ]
  },
  {
   "cell_type": "code",
   "execution_count": 2,
   "id": "0ab65371",
   "metadata": {
    "ExecuteTime": {
     "end_time": "2022-11-10T13:40:13.955201Z",
     "start_time": "2022-11-10T13:40:01.513175Z"
    }
   },
   "outputs": [
    {
     "data": {
      "text/html": [
       "<div>\n",
       "<style scoped>\n",
       "    .dataframe tbody tr th:only-of-type {\n",
       "        vertical-align: middle;\n",
       "    }\n",
       "\n",
       "    .dataframe tbody tr th {\n",
       "        vertical-align: top;\n",
       "    }\n",
       "\n",
       "    .dataframe thead th {\n",
       "        text-align: right;\n",
       "    }\n",
       "</style>\n",
       "<table border=\"1\" class=\"dataframe\">\n",
       "  <thead>\n",
       "    <tr style=\"text-align: right;\">\n",
       "      <th></th>\n",
       "      <th>PatientId</th>\n",
       "      <th>AppointmentID</th>\n",
       "      <th>Gender</th>\n",
       "      <th>ScheduledDay</th>\n",
       "      <th>AppointmentDay</th>\n",
       "      <th>Age</th>\n",
       "      <th>Neighbourhood</th>\n",
       "      <th>Scholarship</th>\n",
       "      <th>Hipertension</th>\n",
       "      <th>Diabetes</th>\n",
       "      <th>Alcoholism</th>\n",
       "      <th>Handcap</th>\n",
       "      <th>SMS_received</th>\n",
       "      <th>No-show</th>\n",
       "    </tr>\n",
       "  </thead>\n",
       "  <tbody>\n",
       "    <tr>\n",
       "      <th>0</th>\n",
       "      <td>2.987250e+13</td>\n",
       "      <td>5642903</td>\n",
       "      <td>F</td>\n",
       "      <td>2016-04-29T18:38:08Z</td>\n",
       "      <td>2016-04-29T00:00:00Z</td>\n",
       "      <td>62</td>\n",
       "      <td>JARDIM DA PENHA</td>\n",
       "      <td>0</td>\n",
       "      <td>1</td>\n",
       "      <td>0</td>\n",
       "      <td>0</td>\n",
       "      <td>0</td>\n",
       "      <td>0</td>\n",
       "      <td>No</td>\n",
       "    </tr>\n",
       "    <tr>\n",
       "      <th>1</th>\n",
       "      <td>5.589978e+14</td>\n",
       "      <td>5642503</td>\n",
       "      <td>M</td>\n",
       "      <td>2016-04-29T16:08:27Z</td>\n",
       "      <td>2016-04-29T00:00:00Z</td>\n",
       "      <td>56</td>\n",
       "      <td>JARDIM DA PENHA</td>\n",
       "      <td>0</td>\n",
       "      <td>0</td>\n",
       "      <td>0</td>\n",
       "      <td>0</td>\n",
       "      <td>0</td>\n",
       "      <td>0</td>\n",
       "      <td>No</td>\n",
       "    </tr>\n",
       "    <tr>\n",
       "      <th>2</th>\n",
       "      <td>4.262962e+12</td>\n",
       "      <td>5642549</td>\n",
       "      <td>F</td>\n",
       "      <td>2016-04-29T16:19:04Z</td>\n",
       "      <td>2016-04-29T00:00:00Z</td>\n",
       "      <td>62</td>\n",
       "      <td>MATA DA PRAIA</td>\n",
       "      <td>0</td>\n",
       "      <td>0</td>\n",
       "      <td>0</td>\n",
       "      <td>0</td>\n",
       "      <td>0</td>\n",
       "      <td>0</td>\n",
       "      <td>No</td>\n",
       "    </tr>\n",
       "    <tr>\n",
       "      <th>3</th>\n",
       "      <td>8.679512e+11</td>\n",
       "      <td>5642828</td>\n",
       "      <td>F</td>\n",
       "      <td>2016-04-29T17:29:31Z</td>\n",
       "      <td>2016-04-29T00:00:00Z</td>\n",
       "      <td>8</td>\n",
       "      <td>PONTAL DE CAMBURI</td>\n",
       "      <td>0</td>\n",
       "      <td>0</td>\n",
       "      <td>0</td>\n",
       "      <td>0</td>\n",
       "      <td>0</td>\n",
       "      <td>0</td>\n",
       "      <td>No</td>\n",
       "    </tr>\n",
       "    <tr>\n",
       "      <th>4</th>\n",
       "      <td>8.841186e+12</td>\n",
       "      <td>5642494</td>\n",
       "      <td>F</td>\n",
       "      <td>2016-04-29T16:07:23Z</td>\n",
       "      <td>2016-04-29T00:00:00Z</td>\n",
       "      <td>56</td>\n",
       "      <td>JARDIM DA PENHA</td>\n",
       "      <td>0</td>\n",
       "      <td>1</td>\n",
       "      <td>1</td>\n",
       "      <td>0</td>\n",
       "      <td>0</td>\n",
       "      <td>0</td>\n",
       "      <td>No</td>\n",
       "    </tr>\n",
       "  </tbody>\n",
       "</table>\n",
       "</div>"
      ],
      "text/plain": [
       "      PatientId  AppointmentID Gender          ScheduledDay  \\\n",
       "0  2.987250e+13        5642903      F  2016-04-29T18:38:08Z   \n",
       "1  5.589978e+14        5642503      M  2016-04-29T16:08:27Z   \n",
       "2  4.262962e+12        5642549      F  2016-04-29T16:19:04Z   \n",
       "3  8.679512e+11        5642828      F  2016-04-29T17:29:31Z   \n",
       "4  8.841186e+12        5642494      F  2016-04-29T16:07:23Z   \n",
       "\n",
       "         AppointmentDay  Age      Neighbourhood  Scholarship  Hipertension  \\\n",
       "0  2016-04-29T00:00:00Z   62    JARDIM DA PENHA            0             1   \n",
       "1  2016-04-29T00:00:00Z   56    JARDIM DA PENHA            0             0   \n",
       "2  2016-04-29T00:00:00Z   62      MATA DA PRAIA            0             0   \n",
       "3  2016-04-29T00:00:00Z    8  PONTAL DE CAMBURI            0             0   \n",
       "4  2016-04-29T00:00:00Z   56    JARDIM DA PENHA            0             1   \n",
       "\n",
       "   Diabetes  Alcoholism  Handcap  SMS_received No-show  \n",
       "0         0           0        0             0      No  \n",
       "1         0           0        0             0      No  \n",
       "2         0           0        0             0      No  \n",
       "3         0           0        0             0      No  \n",
       "4         1           0        0             0      No  "
      ]
     },
     "execution_count": 2,
     "metadata": {},
     "output_type": "execute_result"
    }
   ],
   "source": [
    "# load the dataset\n",
    "df = pd.read_csv(\"noshowappointments-kagglev2-may-2016.csv\")\n",
    "df.head()"
   ]
  },
  {
   "cell_type": "code",
   "execution_count": 3,
   "id": "1aaf9316",
   "metadata": {
    "ExecuteTime": {
     "end_time": "2022-11-10T13:40:49.524336Z",
     "start_time": "2022-11-10T13:40:49.460558Z"
    }
   },
   "outputs": [
    {
     "data": {
      "text/plain": [
       "(110527, 14)"
      ]
     },
     "execution_count": 3,
     "metadata": {},
     "output_type": "execute_result"
    }
   ],
   "source": [
    "#this is to check the number of records and characteristics of each records in the dataset. \n",
    "df.shape"
   ]
  },
  {
   "cell_type": "markdown",
   "id": "508b2363",
   "metadata": {},
   "source": [
    "In total, there are 110527 records and 14 attributes in the dataset"
   ]
  },
  {
   "cell_type": "code",
   "execution_count": 4,
   "id": "cbb1b443",
   "metadata": {
    "ExecuteTime": {
     "end_time": "2022-11-10T13:40:56.356780Z",
     "start_time": "2022-11-10T13:40:55.647467Z"
    }
   },
   "outputs": [
    {
     "data": {
      "text/plain": [
       "PatientId         0\n",
       "AppointmentID     0\n",
       "Gender            0\n",
       "ScheduledDay      0\n",
       "AppointmentDay    0\n",
       "Age               0\n",
       "Neighbourhood     0\n",
       "Scholarship       0\n",
       "Hipertension      0\n",
       "Diabetes          0\n",
       "Alcoholism        0\n",
       "Handcap           0\n",
       "SMS_received      0\n",
       "No-show           0\n",
       "dtype: int64"
      ]
     },
     "execution_count": 4,
     "metadata": {},
     "output_type": "execute_result"
    }
   ],
   "source": [
    "#check for missing value(s)\n",
    "df.isnull().sum()"
   ]
  },
  {
   "cell_type": "markdown",
   "id": "531a1196",
   "metadata": {},
   "source": [
    "The dataset has no missing value"
   ]
  },
  {
   "cell_type": "code",
   "execution_count": 5,
   "id": "f2f68d8d",
   "metadata": {
    "ExecuteTime": {
     "end_time": "2022-11-10T13:41:23.682134Z",
     "start_time": "2022-11-10T13:41:22.667452Z"
    }
   },
   "outputs": [
    {
     "data": {
      "text/plain": [
       "0"
      ]
     },
     "execution_count": 5,
     "metadata": {},
     "output_type": "execute_result"
    }
   ],
   "source": [
    "#This is to check for duplicates in the dataset\n",
    "df.duplicated().sum()"
   ]
  },
  {
   "cell_type": "markdown",
   "id": "9852f567",
   "metadata": {},
   "source": [
    "The dataset does not have duplicated values, however since we expect AppointmentID to be unique, we would check for duplicated values in this column and possibly drop them."
   ]
  },
  {
   "cell_type": "code",
   "execution_count": 6,
   "id": "57cf8133",
   "metadata": {
    "ExecuteTime": {
     "end_time": "2022-11-10T13:41:37.841650Z",
     "start_time": "2022-11-10T13:41:37.696635Z"
    }
   },
   "outputs": [
    {
     "data": {
      "text/plain": [
       "0"
      ]
     },
     "execution_count": 6,
     "metadata": {},
     "output_type": "execute_result"
    }
   ],
   "source": [
    "#checking for duplicates in AppointmentID column\n",
    "df['AppointmentID'].duplicated().sum()"
   ]
  },
  {
   "cell_type": "markdown",
   "id": "fe6ff88e",
   "metadata": {},
   "source": [
    "From the above, the AppointmentID and ScheduleDay are formated as string. In the data cleaning section, we shall change them to their appropriate structure which is datetime."
   ]
  },
  {
   "cell_type": "code",
   "execution_count": 7,
   "id": "f88a814b",
   "metadata": {
    "ExecuteTime": {
     "end_time": "2022-11-10T13:42:15.838519Z",
     "start_time": "2022-11-10T13:42:13.738994Z"
    }
   },
   "outputs": [
    {
     "name": "stdout",
     "output_type": "stream",
     "text": [
      "<class 'pandas.core.frame.DataFrame'>\n",
      "RangeIndex: 110527 entries, 0 to 110526\n",
      "Data columns (total 14 columns):\n",
      " #   Column          Non-Null Count   Dtype  \n",
      "---  ------          --------------   -----  \n",
      " 0   PatientId       110527 non-null  float64\n",
      " 1   AppointmentID   110527 non-null  int64  \n",
      " 2   Gender          110527 non-null  object \n",
      " 3   ScheduledDay    110527 non-null  object \n",
      " 4   AppointmentDay  110527 non-null  object \n",
      " 5   Age             110527 non-null  int64  \n",
      " 6   Neighbourhood   110527 non-null  object \n",
      " 7   Scholarship     110527 non-null  int64  \n",
      " 8   Hipertension    110527 non-null  int64  \n",
      " 9   Diabetes        110527 non-null  int64  \n",
      " 10  Alcoholism      110527 non-null  int64  \n",
      " 11  Handcap         110527 non-null  int64  \n",
      " 12  SMS_received    110527 non-null  int64  \n",
      " 13  No-show         110527 non-null  object \n",
      "dtypes: float64(1), int64(8), object(5)\n",
      "memory usage: 11.8+ MB\n"
     ]
    }
   ],
   "source": [
    "#Here is to investigate the structure of the dataset\n",
    "df.info()"
   ]
  },
  {
   "cell_type": "code",
   "execution_count": 8,
   "id": "427f7cac",
   "metadata": {
    "ExecuteTime": {
     "end_time": "2022-11-10T13:45:42.280816Z",
     "start_time": "2022-11-10T13:45:41.966146Z"
    }
   },
   "outputs": [
    {
     "data": {
      "text/plain": [
       "PatientId          62299\n",
       "AppointmentID     110527\n",
       "Gender                 2\n",
       "ScheduledDay      103549\n",
       "AppointmentDay        27\n",
       "Age                  104\n",
       "Neighbourhood         81\n",
       "Scholarship            2\n",
       "Hipertension           2\n",
       "Diabetes               2\n",
       "Alcoholism             2\n",
       "Handcap                5\n",
       "SMS_received           2\n",
       "No-show                2\n",
       "dtype: int64"
      ]
     },
     "execution_count": 8,
     "metadata": {},
     "output_type": "execute_result"
    }
   ],
   "source": [
    "# checking for number of distinct values in each column of the dataset\n",
    "df.nunique()"
   ]
  },
  {
   "cell_type": "markdown",
   "id": "0c37f22d",
   "metadata": {},
   "source": [
    "From the above, we see that there are sixty two thousand two hundred and ninty nine patients with one hundred and ten thousand five hundred twenty seven scheduled appointment. Also, there are more than two unique values in the Handcap column instead of two distinct values. We shall also fix this problem in the data cleaning section"
   ]
  },
  {
   "cell_type": "code",
   "execution_count": 9,
   "id": "ecb72334",
   "metadata": {
    "ExecuteTime": {
     "end_time": "2022-11-10T13:47:52.010362Z",
     "start_time": "2022-11-10T13:47:50.451917Z"
    }
   },
   "outputs": [
    {
     "data": {
      "text/html": [
       "<div>\n",
       "<style scoped>\n",
       "    .dataframe tbody tr th:only-of-type {\n",
       "        vertical-align: middle;\n",
       "    }\n",
       "\n",
       "    .dataframe tbody tr th {\n",
       "        vertical-align: top;\n",
       "    }\n",
       "\n",
       "    .dataframe thead th {\n",
       "        text-align: right;\n",
       "    }\n",
       "</style>\n",
       "<table border=\"1\" class=\"dataframe\">\n",
       "  <thead>\n",
       "    <tr style=\"text-align: right;\">\n",
       "      <th></th>\n",
       "      <th>PatientId</th>\n",
       "      <th>AppointmentID</th>\n",
       "      <th>Age</th>\n",
       "      <th>Scholarship</th>\n",
       "      <th>Hipertension</th>\n",
       "      <th>Diabetes</th>\n",
       "      <th>Alcoholism</th>\n",
       "      <th>Handcap</th>\n",
       "      <th>SMS_received</th>\n",
       "    </tr>\n",
       "  </thead>\n",
       "  <tbody>\n",
       "    <tr>\n",
       "      <th>count</th>\n",
       "      <td>1.105270e+05</td>\n",
       "      <td>1.105270e+05</td>\n",
       "      <td>110527.000000</td>\n",
       "      <td>110527.000000</td>\n",
       "      <td>110527.000000</td>\n",
       "      <td>110527.000000</td>\n",
       "      <td>110527.000000</td>\n",
       "      <td>110527.000000</td>\n",
       "      <td>110527.000000</td>\n",
       "    </tr>\n",
       "    <tr>\n",
       "      <th>mean</th>\n",
       "      <td>1.474963e+14</td>\n",
       "      <td>5.675305e+06</td>\n",
       "      <td>37.088874</td>\n",
       "      <td>0.098266</td>\n",
       "      <td>0.197246</td>\n",
       "      <td>0.071865</td>\n",
       "      <td>0.030400</td>\n",
       "      <td>0.022248</td>\n",
       "      <td>0.321026</td>\n",
       "    </tr>\n",
       "    <tr>\n",
       "      <th>std</th>\n",
       "      <td>2.560949e+14</td>\n",
       "      <td>7.129575e+04</td>\n",
       "      <td>23.110205</td>\n",
       "      <td>0.297675</td>\n",
       "      <td>0.397921</td>\n",
       "      <td>0.258265</td>\n",
       "      <td>0.171686</td>\n",
       "      <td>0.161543</td>\n",
       "      <td>0.466873</td>\n",
       "    </tr>\n",
       "    <tr>\n",
       "      <th>min</th>\n",
       "      <td>3.921784e+04</td>\n",
       "      <td>5.030230e+06</td>\n",
       "      <td>-1.000000</td>\n",
       "      <td>0.000000</td>\n",
       "      <td>0.000000</td>\n",
       "      <td>0.000000</td>\n",
       "      <td>0.000000</td>\n",
       "      <td>0.000000</td>\n",
       "      <td>0.000000</td>\n",
       "    </tr>\n",
       "    <tr>\n",
       "      <th>25%</th>\n",
       "      <td>4.172614e+12</td>\n",
       "      <td>5.640286e+06</td>\n",
       "      <td>18.000000</td>\n",
       "      <td>0.000000</td>\n",
       "      <td>0.000000</td>\n",
       "      <td>0.000000</td>\n",
       "      <td>0.000000</td>\n",
       "      <td>0.000000</td>\n",
       "      <td>0.000000</td>\n",
       "    </tr>\n",
       "    <tr>\n",
       "      <th>50%</th>\n",
       "      <td>3.173184e+13</td>\n",
       "      <td>5.680573e+06</td>\n",
       "      <td>37.000000</td>\n",
       "      <td>0.000000</td>\n",
       "      <td>0.000000</td>\n",
       "      <td>0.000000</td>\n",
       "      <td>0.000000</td>\n",
       "      <td>0.000000</td>\n",
       "      <td>0.000000</td>\n",
       "    </tr>\n",
       "    <tr>\n",
       "      <th>75%</th>\n",
       "      <td>9.439172e+13</td>\n",
       "      <td>5.725524e+06</td>\n",
       "      <td>55.000000</td>\n",
       "      <td>0.000000</td>\n",
       "      <td>0.000000</td>\n",
       "      <td>0.000000</td>\n",
       "      <td>0.000000</td>\n",
       "      <td>0.000000</td>\n",
       "      <td>1.000000</td>\n",
       "    </tr>\n",
       "    <tr>\n",
       "      <th>max</th>\n",
       "      <td>9.999816e+14</td>\n",
       "      <td>5.790484e+06</td>\n",
       "      <td>115.000000</td>\n",
       "      <td>1.000000</td>\n",
       "      <td>1.000000</td>\n",
       "      <td>1.000000</td>\n",
       "      <td>1.000000</td>\n",
       "      <td>4.000000</td>\n",
       "      <td>1.000000</td>\n",
       "    </tr>\n",
       "  </tbody>\n",
       "</table>\n",
       "</div>"
      ],
      "text/plain": [
       "          PatientId  AppointmentID            Age    Scholarship  \\\n",
       "count  1.105270e+05   1.105270e+05  110527.000000  110527.000000   \n",
       "mean   1.474963e+14   5.675305e+06      37.088874       0.098266   \n",
       "std    2.560949e+14   7.129575e+04      23.110205       0.297675   \n",
       "min    3.921784e+04   5.030230e+06      -1.000000       0.000000   \n",
       "25%    4.172614e+12   5.640286e+06      18.000000       0.000000   \n",
       "50%    3.173184e+13   5.680573e+06      37.000000       0.000000   \n",
       "75%    9.439172e+13   5.725524e+06      55.000000       0.000000   \n",
       "max    9.999816e+14   5.790484e+06     115.000000       1.000000   \n",
       "\n",
       "        Hipertension       Diabetes     Alcoholism        Handcap  \\\n",
       "count  110527.000000  110527.000000  110527.000000  110527.000000   \n",
       "mean        0.197246       0.071865       0.030400       0.022248   \n",
       "std         0.397921       0.258265       0.171686       0.161543   \n",
       "min         0.000000       0.000000       0.000000       0.000000   \n",
       "25%         0.000000       0.000000       0.000000       0.000000   \n",
       "50%         0.000000       0.000000       0.000000       0.000000   \n",
       "75%         0.000000       0.000000       0.000000       0.000000   \n",
       "max         1.000000       1.000000       1.000000       4.000000   \n",
       "\n",
       "        SMS_received  \n",
       "count  110527.000000  \n",
       "mean        0.321026  \n",
       "std         0.466873  \n",
       "min         0.000000  \n",
       "25%         0.000000  \n",
       "50%         0.000000  \n",
       "75%         1.000000  \n",
       "max         1.000000  "
      ]
     },
     "execution_count": 9,
     "metadata": {},
     "output_type": "execute_result"
    }
   ],
   "source": [
    "#summarize the dataset\n",
    "df.describe()"
   ]
  },
  {
   "cell_type": "code",
   "execution_count": 10,
   "id": "410a46a7",
   "metadata": {
    "ExecuteTime": {
     "end_time": "2022-11-10T13:48:37.848584Z",
     "start_time": "2022-11-10T13:48:20.151247Z"
    }
   },
   "outputs": [
    {
     "data": {
      "text/plain": [
       "array([[<AxesSubplot:title={'center':'PatientId'}>,\n",
       "        <AxesSubplot:title={'center':'AppointmentID'}>,\n",
       "        <AxesSubplot:title={'center':'Age'}>],\n",
       "       [<AxesSubplot:title={'center':'Scholarship'}>,\n",
       "        <AxesSubplot:title={'center':'Hipertension'}>,\n",
       "        <AxesSubplot:title={'center':'Diabetes'}>],\n",
       "       [<AxesSubplot:title={'center':'Alcoholism'}>,\n",
       "        <AxesSubplot:title={'center':'Handcap'}>,\n",
       "        <AxesSubplot:title={'center':'SMS_received'}>]], dtype=object)"
      ]
     },
     "execution_count": 10,
     "metadata": {},
     "output_type": "execute_result"
    },
    {
     "data": {
      "image/png": "[encoded data removed]",
      "text/plain": [
       "<Figure size 720x576 with 9 Axes>"
      ]
     },
     "metadata": {
      "needs_background": "light"
     },
     "output_type": "display_data"
    }
   ],
   "source": [
    "df.hist(figsize=(10,8))"
   ]
  },
  {
   "cell_type": "markdown",
   "id": "8a3e96f8",
   "metadata": {},
   "source": [
    "we can see from the summary statistic table that we have negative age which is not realistic. Also we have four distinct values in the handicap column in which they are suppose two, 0 and 1 for 'No' and 'Yes' respectively."
   ]
  },
  {
   "cell_type": "markdown",
   "id": "086a01b9",
   "metadata": {},
   "source": [
    "### Data Cleaning "
   ]
  },
  {
   "cell_type": "markdown",
   "id": "69203535",
   "metadata": {},
   "source": [
    "in this section we shall \n",
    "> **1**: drop rows for which the age is negative                                                                                \n",
    "> **2**: drop rows for which handicap is greater or equal to two                                                                \n",
    "> **3**: For the purpose of conveniency and for quick understanding, we would rename the \"No-show\" column to \"Show-up\" and also modify its content such that **No** would mean the patient **DID NOT** show up for the appointment and **Yes** would mean the patient showed up for the appointment.                                                                                                                \n",
    ">**4**: Change the structure of AppointmentDay and ScheduleDay from string to Datetime                                                                                                                                                                                                                  \n",
    ">**5**: Create additional column for month, and day both schedule day and appointment day. "
   ]
  },
  {
   "cell_type": "code",
   "execution_count": 11,
   "id": "b9465a9e",
   "metadata": {
    "ExecuteTime": {
     "end_time": "2022-11-10T21:57:02.969072Z",
     "start_time": "2022-11-10T21:57:02.576772Z"
    }
   },
   "outputs": [
    {
     "data": {
      "text/plain": [
       "PatientId          62190\n",
       "AppointmentID     110327\n",
       "Gender                 2\n",
       "ScheduledDay      103368\n",
       "AppointmentDay        27\n",
       "Age                  103\n",
       "Neighbourhood         81\n",
       "Scholarship            2\n",
       "Hipertension           2\n",
       "Diabetes               2\n",
       "Alcoholism             2\n",
       "Handcap                2\n",
       "SMS_received           2\n",
       "No-show                2\n",
       "dtype: int64"
      ]
     },
     "execution_count": 11,
     "metadata": {},
     "output_type": "execute_result"
    }
   ],
   "source": [
    "#this is to drop rows for which age is negative and handicap greater than or equal to 2.\n",
    "row_id = df[(df[\"Handcap\"]>1)|(df[\"Age\"]<0)].index\n",
    "df.drop(row_id, inplace=True)\n",
    "\n",
    "#check up for unique values\n",
    "df.nunique()"
   ]
  },
  {
   "cell_type": "markdown",
   "id": "f016418c",
   "metadata": {},
   "source": [
    "Comparing this result with the previous one, we see that the number of age dropped by 1 and handicap dropped by 199 making it a total of 200 records dropped from the dataset."
   ]
  },
  {
   "cell_type": "code",
   "execution_count": 12,
   "id": "f15b2803",
   "metadata": {
    "ExecuteTime": {
     "end_time": "2022-11-10T21:58:34.103927Z",
     "start_time": "2022-11-10T21:58:33.887934Z"
    }
   },
   "outputs": [
    {
     "data": {
      "text/html": [
       "<div>\n",
       "<style scoped>\n",
       "    .dataframe tbody tr th:only-of-type {\n",
       "        vertical-align: middle;\n",
       "    }\n",
       "\n",
       "    .dataframe tbody tr th {\n",
       "        vertical-align: top;\n",
       "    }\n",
       "\n",
       "    .dataframe thead th {\n",
       "        text-align: right;\n",
       "    }\n",
       "</style>\n",
       "<table border=\"1\" class=\"dataframe\">\n",
       "  <thead>\n",
       "    <tr style=\"text-align: right;\">\n",
       "      <th></th>\n",
       "      <th>PatientId</th>\n",
       "      <th>AppointmentID</th>\n",
       "      <th>Gender</th>\n",
       "      <th>ScheduledDay</th>\n",
       "      <th>AppointmentDay</th>\n",
       "      <th>Age</th>\n",
       "      <th>Neighbourhood</th>\n",
       "      <th>Scholarship</th>\n",
       "      <th>Hipertension</th>\n",
       "      <th>Diabetes</th>\n",
       "      <th>Alcoholism</th>\n",
       "      <th>Handcap</th>\n",
       "      <th>SMS_received</th>\n",
       "      <th>Show_up</th>\n",
       "    </tr>\n",
       "  </thead>\n",
       "  <tbody>\n",
       "    <tr>\n",
       "      <th>0</th>\n",
       "      <td>2.987250e+13</td>\n",
       "      <td>5642903</td>\n",
       "      <td>F</td>\n",
       "      <td>2016-04-29T18:38:08Z</td>\n",
       "      <td>2016-04-29T00:00:00Z</td>\n",
       "      <td>62</td>\n",
       "      <td>JARDIM DA PENHA</td>\n",
       "      <td>0</td>\n",
       "      <td>1</td>\n",
       "      <td>0</td>\n",
       "      <td>0</td>\n",
       "      <td>0</td>\n",
       "      <td>0</td>\n",
       "      <td>Yes</td>\n",
       "    </tr>\n",
       "    <tr>\n",
       "      <th>1</th>\n",
       "      <td>5.589978e+14</td>\n",
       "      <td>5642503</td>\n",
       "      <td>M</td>\n",
       "      <td>2016-04-29T16:08:27Z</td>\n",
       "      <td>2016-04-29T00:00:00Z</td>\n",
       "      <td>56</td>\n",
       "      <td>JARDIM DA PENHA</td>\n",
       "      <td>0</td>\n",
       "      <td>0</td>\n",
       "      <td>0</td>\n",
       "      <td>0</td>\n",
       "      <td>0</td>\n",
       "      <td>0</td>\n",
       "      <td>Yes</td>\n",
       "    </tr>\n",
       "    <tr>\n",
       "      <th>2</th>\n",
       "      <td>4.262962e+12</td>\n",
       "      <td>5642549</td>\n",
       "      <td>F</td>\n",
       "      <td>2016-04-29T16:19:04Z</td>\n",
       "      <td>2016-04-29T00:00:00Z</td>\n",
       "      <td>62</td>\n",
       "      <td>MATA DA PRAIA</td>\n",
       "      <td>0</td>\n",
       "      <td>0</td>\n",
       "      <td>0</td>\n",
       "      <td>0</td>\n",
       "      <td>0</td>\n",
       "      <td>0</td>\n",
       "      <td>Yes</td>\n",
       "    </tr>\n",
       "    <tr>\n",
       "      <th>3</th>\n",
       "      <td>8.679512e+11</td>\n",
       "      <td>5642828</td>\n",
       "      <td>F</td>\n",
       "      <td>2016-04-29T17:29:31Z</td>\n",
       "      <td>2016-04-29T00:00:00Z</td>\n",
       "      <td>8</td>\n",
       "      <td>PONTAL DE CAMBURI</td>\n",
       "      <td>0</td>\n",
       "      <td>0</td>\n",
       "      <td>0</td>\n",
       "      <td>0</td>\n",
       "      <td>0</td>\n",
       "      <td>0</td>\n",
       "      <td>Yes</td>\n",
       "    </tr>\n",
       "    <tr>\n",
       "      <th>4</th>\n",
       "      <td>8.841186e+12</td>\n",
       "      <td>5642494</td>\n",
       "      <td>F</td>\n",
       "      <td>2016-04-29T16:07:23Z</td>\n",
       "      <td>2016-04-29T00:00:00Z</td>\n",
       "      <td>56</td>\n",
       "      <td>JARDIM DA PENHA</td>\n",
       "      <td>0</td>\n",
       "      <td>1</td>\n",
       "      <td>1</td>\n",
       "      <td>0</td>\n",
       "      <td>0</td>\n",
       "      <td>0</td>\n",
       "      <td>Yes</td>\n",
       "    </tr>\n",
       "  </tbody>\n",
       "</table>\n",
       "</div>"
      ],
      "text/plain": [
       "      PatientId  AppointmentID Gender          ScheduledDay  \\\n",
       "0  2.987250e+13        5642903      F  2016-04-29T18:38:08Z   \n",
       "1  5.589978e+14        5642503      M  2016-04-29T16:08:27Z   \n",
       "2  4.262962e+12        5642549      F  2016-04-29T16:19:04Z   \n",
       "3  8.679512e+11        5642828      F  2016-04-29T17:29:31Z   \n",
       "4  8.841186e+12        5642494      F  2016-04-29T16:07:23Z   \n",
       "\n",
       "         AppointmentDay  Age      Neighbourhood  Scholarship  Hipertension  \\\n",
       "0  2016-04-29T00:00:00Z   62    JARDIM DA PENHA            0             1   \n",
       "1  2016-04-29T00:00:00Z   56    JARDIM DA PENHA            0             0   \n",
       "2  2016-04-29T00:00:00Z   62      MATA DA PRAIA            0             0   \n",
       "3  2016-04-29T00:00:00Z    8  PONTAL DE CAMBURI            0             0   \n",
       "4  2016-04-29T00:00:00Z   56    JARDIM DA PENHA            0             1   \n",
       "\n",
       "   Diabetes  Alcoholism  Handcap  SMS_received Show_up  \n",
       "0         0           0        0             0     Yes  \n",
       "1         0           0        0             0     Yes  \n",
       "2         0           0        0             0     Yes  \n",
       "3         0           0        0             0     Yes  \n",
       "4         1           0        0             0     Yes  "
      ]
     },
     "execution_count": 12,
     "metadata": {},
     "output_type": "execute_result"
    }
   ],
   "source": [
    "#Rename the No-show column to Show-up and reverse its encoding. \n",
    "df.rename({\"No-show\":\"Show_up\"}, axis=1, inplace=True)\n",
    "df.replace({\"Show_up\":{\"No\":\"Yes\", \"Yes\":\"No\"}},inplace=True)\n",
    "df.head()"
   ]
  },
  {
   "cell_type": "code",
   "execution_count": 13,
   "id": "ef2d5e3a",
   "metadata": {
    "ExecuteTime": {
     "end_time": "2022-11-10T21:58:55.530835Z",
     "start_time": "2022-11-10T21:58:54.579383Z"
    }
   },
   "outputs": [
    {
     "name": "stdout",
     "output_type": "stream",
     "text": [
      "<class 'pandas.core.frame.DataFrame'>\n",
      "Int64Index: 110327 entries, 0 to 110526\n",
      "Data columns (total 14 columns):\n",
      " #   Column          Non-Null Count   Dtype              \n",
      "---  ------          --------------   -----              \n",
      " 0   PatientId       110327 non-null  float64            \n",
      " 1   AppointmentID   110327 non-null  int64              \n",
      " 2   Gender          110327 non-null  object             \n",
      " 3   ScheduledDay    110327 non-null  datetime64[ns, UTC]\n",
      " 4   AppointmentDay  110327 non-null  datetime64[ns, UTC]\n",
      " 5   Age             110327 non-null  int64              \n",
      " 6   Neighbourhood   110327 non-null  object             \n",
      " 7   Scholarship     110327 non-null  int64              \n",
      " 8   Hipertension    110327 non-null  int64              \n",
      " 9   Diabetes        110327 non-null  int64              \n",
      " 10  Alcoholism      110327 non-null  int64              \n",
      " 11  Handcap         110327 non-null  int64              \n",
      " 12  SMS_received    110327 non-null  int64              \n",
      " 13  Show_up         110327 non-null  object             \n",
      "dtypes: datetime64[ns, UTC](2), float64(1), int64(8), object(3)\n",
      "memory usage: 12.6+ MB\n"
     ]
    }
   ],
   "source": [
    "#Change AppointmentDay and ScheduledDay from string to datetime.\n",
    "df[\"ScheduledDay\"] = pd.to_datetime(df[\"ScheduledDay\"])\n",
    "df[\"AppointmentDay\"] = pd.to_datetime(df[\"AppointmentDay\"])\n",
    "df.info()"
   ]
  },
  {
   "cell_type": "code",
   "execution_count": 14,
   "id": "3b4f29db",
   "metadata": {
    "ExecuteTime": {
     "end_time": "2022-11-10T21:59:57.507557Z",
     "start_time": "2022-11-10T21:59:55.868233Z"
    }
   },
   "outputs": [
    {
     "data": {
      "text/html": [
       "<div>\n",
       "<style scoped>\n",
       "    .dataframe tbody tr th:only-of-type {\n",
       "        vertical-align: middle;\n",
       "    }\n",
       "\n",
       "    .dataframe tbody tr th {\n",
       "        vertical-align: top;\n",
       "    }\n",
       "\n",
       "    .dataframe thead th {\n",
       "        text-align: right;\n",
       "    }\n",
       "</style>\n",
       "<table border=\"1\" class=\"dataframe\">\n",
       "  <thead>\n",
       "    <tr style=\"text-align: right;\">\n",
       "      <th></th>\n",
       "      <th>PatientId</th>\n",
       "      <th>AppointmentID</th>\n",
       "      <th>Gender</th>\n",
       "      <th>ScheduledDay</th>\n",
       "      <th>AppointmentDay</th>\n",
       "      <th>Age</th>\n",
       "      <th>Neighbourhood</th>\n",
       "      <th>Scholarship</th>\n",
       "      <th>Hipertension</th>\n",
       "      <th>Diabetes</th>\n",
       "      <th>Alcoholism</th>\n",
       "      <th>Handcap</th>\n",
       "      <th>SMS_received</th>\n",
       "      <th>Show_up</th>\n",
       "      <th>Scheduled_Day</th>\n",
       "      <th>Scheduled_Month</th>\n",
       "      <th>Appointment_Day</th>\n",
       "      <th>Appointment_Month</th>\n",
       "    </tr>\n",
       "  </thead>\n",
       "  <tbody>\n",
       "    <tr>\n",
       "      <th>0</th>\n",
       "      <td>2.987250e+13</td>\n",
       "      <td>5642903</td>\n",
       "      <td>F</td>\n",
       "      <td>2016-04-29 18:38:08+00:00</td>\n",
       "      <td>2016-04-29 00:00:00+00:00</td>\n",
       "      <td>62</td>\n",
       "      <td>JARDIM DA PENHA</td>\n",
       "      <td>0</td>\n",
       "      <td>1</td>\n",
       "      <td>0</td>\n",
       "      <td>0</td>\n",
       "      <td>0</td>\n",
       "      <td>0</td>\n",
       "      <td>Yes</td>\n",
       "      <td>29</td>\n",
       "      <td>4</td>\n",
       "      <td>29</td>\n",
       "      <td>4</td>\n",
       "    </tr>\n",
       "    <tr>\n",
       "      <th>1</th>\n",
       "      <td>5.589978e+14</td>\n",
       "      <td>5642503</td>\n",
       "      <td>M</td>\n",
       "      <td>2016-04-29 16:08:27+00:00</td>\n",
       "      <td>2016-04-29 00:00:00+00:00</td>\n",
       "      <td>56</td>\n",
       "      <td>JARDIM DA PENHA</td>\n",
       "      <td>0</td>\n",
       "      <td>0</td>\n",
       "      <td>0</td>\n",
       "      <td>0</td>\n",
       "      <td>0</td>\n",
       "      <td>0</td>\n",
       "      <td>Yes</td>\n",
       "      <td>29</td>\n",
       "      <td>4</td>\n",
       "      <td>29</td>\n",
       "      <td>4</td>\n",
       "    </tr>\n",
       "    <tr>\n",
       "      <th>2</th>\n",
       "      <td>4.262962e+12</td>\n",
       "      <td>5642549</td>\n",
       "      <td>F</td>\n",
       "      <td>2016-04-29 16:19:04+00:00</td>\n",
       "      <td>2016-04-29 00:00:00+00:00</td>\n",
       "      <td>62</td>\n",
       "      <td>MATA DA PRAIA</td>\n",
       "      <td>0</td>\n",
       "      <td>0</td>\n",
       "      <td>0</td>\n",
       "      <td>0</td>\n",
       "      <td>0</td>\n",
       "      <td>0</td>\n",
       "      <td>Yes</td>\n",
       "      <td>29</td>\n",
       "      <td>4</td>\n",
       "      <td>29</td>\n",
       "      <td>4</td>\n",
       "    </tr>\n",
       "    <tr>\n",
       "      <th>3</th>\n",
       "      <td>8.679512e+11</td>\n",
       "      <td>5642828</td>\n",
       "      <td>F</td>\n",
       "      <td>2016-04-29 17:29:31+00:00</td>\n",
       "      <td>2016-04-29 00:00:00+00:00</td>\n",
       "      <td>8</td>\n",
       "      <td>PONTAL DE CAMBURI</td>\n",
       "      <td>0</td>\n",
       "      <td>0</td>\n",
       "      <td>0</td>\n",
       "      <td>0</td>\n",
       "      <td>0</td>\n",
       "      <td>0</td>\n",
       "      <td>Yes</td>\n",
       "      <td>29</td>\n",
       "      <td>4</td>\n",
       "      <td>29</td>\n",
       "      <td>4</td>\n",
       "    </tr>\n",
       "    <tr>\n",
       "      <th>4</th>\n",
       "      <td>8.841186e+12</td>\n",
       "      <td>5642494</td>\n",
       "      <td>F</td>\n",
       "      <td>2016-04-29 16:07:23+00:00</td>\n",
       "      <td>2016-04-29 00:00:00+00:00</td>\n",
       "      <td>56</td>\n",
       "      <td>JARDIM DA PENHA</td>\n",
       "      <td>0</td>\n",
       "      <td>1</td>\n",
       "      <td>1</td>\n",
       "      <td>0</td>\n",
       "      <td>0</td>\n",
       "      <td>0</td>\n",
       "      <td>Yes</td>\n",
       "      <td>29</td>\n",
       "      <td>4</td>\n",
       "      <td>29</td>\n",
       "      <td>4</td>\n",
       "    </tr>\n",
       "  </tbody>\n",
       "</table>\n",
       "</div>"
      ],
      "text/plain": [
       "      PatientId  AppointmentID Gender              ScheduledDay  \\\n",
       "0  2.987250e+13        5642903      F 2016-04-29 18:38:08+00:00   \n",
       "1  5.589978e+14        5642503      M 2016-04-29 16:08:27+00:00   \n",
       "2  4.262962e+12        5642549      F 2016-04-29 16:19:04+00:00   \n",
       "3  8.679512e+11        5642828      F 2016-04-29 17:29:31+00:00   \n",
       "4  8.841186e+12        5642494      F 2016-04-29 16:07:23+00:00   \n",
       "\n",
       "             AppointmentDay  Age      Neighbourhood  Scholarship  \\\n",
       "0 2016-04-29 00:00:00+00:00   62    JARDIM DA PENHA            0   \n",
       "1 2016-04-29 00:00:00+00:00   56    JARDIM DA PENHA            0   \n",
       "2 2016-04-29 00:00:00+00:00   62      MATA DA PRAIA            0   \n",
       "3 2016-04-29 00:00:00+00:00    8  PONTAL DE CAMBURI            0   \n",
       "4 2016-04-29 00:00:00+00:00   56    JARDIM DA PENHA            0   \n",
       "\n",
       "   Hipertension  Diabetes  Alcoholism  Handcap  SMS_received Show_up  \\\n",
       "0             1         0           0        0             0     Yes   \n",
       "1             0         0           0        0             0     Yes   \n",
       "2             0         0           0        0             0     Yes   \n",
       "3             0         0           0        0             0     Yes   \n",
       "4             1         1           0        0             0     Yes   \n",
       "\n",
       "   Scheduled_Day  Scheduled_Month  Appointment_Day  Appointment_Month  \n",
       "0             29                4               29                  4  \n",
       "1             29                4               29                  4  \n",
       "2             29                4               29                  4  \n",
       "3             29                4               29                  4  \n",
       "4             29                4               29                  4  "
      ]
     },
     "execution_count": 14,
     "metadata": {},
     "output_type": "execute_result"
    }
   ],
   "source": [
    "#Feature engineering\n",
    "df[\"Scheduled_Day\"] = df[\"ScheduledDay\"].dt.day\n",
    "df[\"Scheduled_Month\"] = df[\"ScheduledDay\"].dt.month\n",
    "df[\"Appointment_Day\"] = df[\"AppointmentDay\"].dt.day\n",
    "df[\"Appointment_Month\"] = df[\"AppointmentDay\"].dt.month\n",
    "\n",
    "df.head()"
   ]
  },
  {
   "cell_type": "markdown",
   "id": "6cf0a7af",
   "metadata": {},
   "source": [
    "<a id='eda'></a>\n",
    "## Exploratory Data Analysis\n",
    "\n",
    ">### Research Question 1: How many appointments were kept?"
   ]
  },
  {
   "cell_type": "code",
   "execution_count": 16,
   "id": "775682c5",
   "metadata": {
    "ExecuteTime": {
     "end_time": "2022-11-10T22:14:26.884376Z",
     "start_time": "2022-11-10T22:14:26.649382Z"
    }
   },
   "outputs": [
    {
     "name": "stdout",
     "output_type": "stream",
     "text": [
      "Number of appointments patients showed up for: 88049\n"
     ]
    },
    {
     "data": {
      "image/png": "[encoded data removed]",
      "text/plain": [
       "<Figure size 432x288 with 1 Axes>"
      ]
     },
     "metadata": {},
     "output_type": "display_data"
    }
   ],
   "source": [
    "#Number of appointments that were kept to those that were not\n",
    "print(\"Number of appointments patients showed up for: {}\".format(df.Show_up.value_counts()[0]))\n",
    "labels = list(dict(df.Show_up.value_counts()))\n",
    "sizes = list(dict(df.Show_up.value_counts()).values())\n",
    "explode = (0,0.1)\n",
    "\n",
    "fig1, ax1 = plt.subplots()\n",
    "ax1.pie(sizes, explode=explode, \n",
    "        labels=labels, \n",
    "        autopct='%1.1f%%',\n",
    "        shadow=True, \n",
    "        startangle=180)\n",
    "ax1.axis('equal')  # Equal aspect ratio ensures that pie is drawn as a circle.\n",
    "plt.title(\"Proportion Of Appointments That Were Kept Versus Those That Were Not Kept\", fontsize = 15)\n",
    "plt.show();"
   ]
  },
  {
   "cell_type": "markdown",
   "id": "69cdb9db",
   "metadata": {},
   "source": [
    "#### **Finding**: from the foregoing, patients showed up for approximately 80% of the time an appointment was scheduled."
   ]
  },
  {
   "cell_type": "markdown",
   "id": "47f06f26",
   "metadata": {},
   "source": [
    ">**Finding:** Patients who are enrolled in the Brasilian social Welfare Program seems to be more likely to keep their appointment. "
   ]
  },
  {
   "cell_type": "markdown",
   "id": "88bd06c1",
   "metadata": {},
   "source": [
    ">### Research Question 2: Which month is a patient is mostly like to show up for their appointment?"
   ]
  },
  {
   "cell_type": "code",
   "execution_count": 24,
   "id": "a1eb444d",
   "metadata": {
    "ExecuteTime": {
     "end_time": "2022-11-11T06:17:28.174465Z",
     "start_time": "2022-11-11T06:17:28.154464Z"
    }
   },
   "outputs": [],
   "source": [
    "def bar_plots(x, data, title):\n",
    "    \"\"\"\n",
    "    this fuctions is used to visualize the data in a bar chart.\n",
    "    the variable x is the attribute of the data to be visualize\n",
    "    the variable title is the title of the visualisation\n",
    "    \"\"\"\n",
    "    sns.set_context('paper')\n",
    "    sns.set(rc = {'figure.figsize':(8,6)})\n",
    "    sns.countplot(x=x, hue=\"Show_up\", data=data, palette=\"magma\")\n",
    "    plt.title(title, fontsize = 15)\n",
    "    plt.show()\n",
    "    \n",
    "def month(x):\n",
    "    \"\"\"The function compares the schedules and or appointments kept per month versus\n",
    "        those that were not kept.\n",
    "    \"\"\"\n",
    "    appointment = pd.crosstab(df[x], df['Show_up'])\n",
    "    appointment_ave = appointment.div(appointment.sum(1).array, axis=0).mul(100).round(2).add_suffix(\"_Avg(%)\")\n",
    "    df_comb_app = pd.concat((appointment, appointment_ave), axis=1)\n",
    "    df_comb_app[\"Total\"] = df_comb_app[\"No\"] + df_comb_app[\"Yes\"]\n",
    "    return df_comb_app\n",
    "    "
   ]
  },
  {
   "cell_type": "code",
   "execution_count": 25,
   "id": "2e62e250",
   "metadata": {
    "ExecuteTime": {
     "end_time": "2022-11-11T06:17:48.314532Z",
     "start_time": "2022-11-11T06:17:47.858545Z"
    }
   },
   "outputs": [
    {
     "name": "stdout",
     "output_type": "stream",
     "text": [
      "Show_up               No    Yes  No_Avg(%)  Yes_Avg(%)  Total\n",
      "Appointment_Month                                            \n",
      "4                    633   2594      19.62       80.38   3227\n",
      "5                  16767  63927      20.78       79.22  80694\n",
      "6                   4878  21528      18.47       81.53  26406\n"
     ]
    },
    {
     "data": {
      "image/png": "[encoded data removed]",
      "text/plain": [
       "<Figure size 576x432 with 1 Axes>"
      ]
     },
     "metadata": {},
     "output_type": "display_data"
    }
   ],
   "source": [
    "print(month(\"Appointment_Month\"))\n",
    "bar_plots(\"Appointment_Month\", data=df, title=\"Appointments Kept Vs Not Kept Per Month\")"
   ]
  },
  {
   "cell_type": "code",
   "execution_count": 26,
   "id": "51355c94",
   "metadata": {
    "ExecuteTime": {
     "end_time": "2022-11-11T06:18:38.496029Z",
     "start_time": "2022-11-11T06:18:37.963038Z"
    }
   },
   "outputs": [
    {
     "name": "stdout",
     "output_type": "stream",
     "text": [
      "Show_up             No    Yes  No_Avg(%)  Yes_Avg(%)  Total\n",
      "Scheduled_Month                                            \n",
      "1                   18     42      30.00       70.00     60\n",
      "2                   81    199      28.93       71.07    280\n",
      "3                 1194   2414      33.09       66.91   3608\n",
      "4                 7834  17465      30.97       69.03  25299\n",
      "5                11749  55546      17.46       82.54  67295\n",
      "6                 1383  12340      10.08       89.92  13723\n",
      "11                   0      1       0.00      100.00      1\n",
      "12                  19     42      31.15       68.85     61\n"
     ]
    },
    {
     "data": {
      "image/png": "[encoded data removed]",
      "text/plain": [
       "<Figure size 576x432 with 1 Axes>"
      ]
     },
     "metadata": {},
     "output_type": "display_data"
    }
   ],
   "source": [
    "print(month(\"Scheduled_Month\"))\n",
    "bar_plots(\"Scheduled_Month\", data=df, title=\"Schedules Kept Vs Not Kept Per Month\")"
   ]
  },
  {
   "cell_type": "markdown",
   "id": "0be13183",
   "metadata": {},
   "source": [
    "**Finding:** the month of May records the highest number of appointments that were kept by patients. followed by the month of June. Hence patients are more likely to show up for their appointment if they are scheduled within these months. "
   ]
  },
  {
   "cell_type": "markdown",
   "id": "7d49d290",
   "metadata": {},
   "source": [
    "### Research Question 3 : Are patients who are enrolled in the Brasilian social welfare program more likely to show up for their appointment ?"
   ]
  },
  {
   "cell_type": "code",
   "execution_count": 28,
   "id": "b924c7b1",
   "metadata": {
    "ExecuteTime": {
     "end_time": "2022-11-11T06:22:43.264940Z",
     "start_time": "2022-11-11T06:22:43.131935Z"
    }
   },
   "outputs": [
    {
     "name": "stdout",
     "output_type": "stream",
     "text": [
      "Number of patients enrolled in the Brasilian social welfare scheme: 5776\n",
      "The number of schedules setup by patients under scholarship: 10843\n"
     ]
    }
   ],
   "source": [
    "#Lets get the total number of patients on scholarship and the number of scheduled appointment\n",
    "df_scholarship = df[df[\"Scholarship\"]==1]\n",
    "print(\"Number of patients enrolled in the Brasilian social welfare scheme: {}\".format(df_scholarship.PatientId.nunique()))\n",
    "print(\"The number of schedules setup by patients under scholarship: {}\".format(df_scholarship.shape[0]))"
   ]
  },
  {
   "cell_type": "code",
   "execution_count": 31,
   "id": "c695e111",
   "metadata": {
    "ExecuteTime": {
     "end_time": "2022-11-11T06:28:14.126529Z",
     "start_time": "2022-11-11T06:28:13.695531Z"
    }
   },
   "outputs": [
    {
     "name": "stdout",
     "output_type": "stream",
     "text": [
      "Yes    8266\n",
      "No     2577\n",
      "Name: Show_up, dtype: int64\n"
     ]
    },
    {
     "data": {
      "image/png": "[encoded data removed]",
      "text/plain": [
       "<Figure size 576x432 with 1 Axes>"
      ]
     },
     "metadata": {},
     "output_type": "display_data"
    }
   ],
   "source": [
    "#find the number of appointment that were kept and the \n",
    "print(df_scholarship.Show_up.value_counts())\n",
    "bar_plots(\"Scholarship\", data=df_scholarship, title=\"Appointment kept by Patients On Scholarship vs those not on Scholarship\" )"
   ]
  },
  {
   "cell_type": "markdown",
   "id": "5516a827",
   "metadata": {},
   "source": [
    ">**Finding:** Patients who are enrolled in the Brasilian social Welfare Program seems to be more likely to keep their appointment. "
   ]
  },
  {
   "cell_type": "markdown",
   "id": "dbd2105b",
   "metadata": {},
   "source": [
    "### Research Question 4 : Does a particular health condition (hypertension, diabetes, being handicap, or being alcoholic) increase the chances that a patient would show up or not show up for his/her appointment"
   ]
  },
  {
   "cell_type": "code",
   "execution_count": 34,
   "id": "c55feee5",
   "metadata": {},
   "outputs": [],
   "source": [
    "#The following function prints the total number of scheduled appointments of each peculiar health condition and \n",
    "#The number of appointments they showed up for. \n",
    "def print_(x):\n",
    "    if x == \"Hipertension\": j = \"hypertensive\"\n",
    "    elif x == \"Diabetes\": j = \"diabetic\"\n",
    "    elif x == \"Alcoholism\": j = \"alcoholic\"\n",
    "    else: j = \"handicapped\"\n",
    "    \n",
    "    print(\"Number of sheduled appointments for \" + j +\" patients: {}, in which {} where kept and {} were not.\"\n",
    "      .format(df[x].value_counts()[1], df.groupby(x)[\"Show_up\"].value_counts()[1][0],\n",
    "      df.groupby(x)[\"Show_up\"].value_counts()[1][1]))"
   ]
  },
  {
   "cell_type": "code",
   "execution_count": 35,
   "id": "ee336934",
   "metadata": {},
   "outputs": [
    {
     "name": "stdout",
     "output_type": "stream",
     "text": [
      "Number of sheduled appointments for hypertensive patients: 21716, in which 17968 where kept and 3748 were not.\n"
     ]
    },
    {
     "data": {
      "image/png": "[encoded data removed]",
      "text/plain": [
       "<Figure size 576x432 with 1 Axes>"
      ]
     },
     "metadata": {},
     "output_type": "display_data"
    }
   ],
   "source": [
    "#Printing and visualizing the number of scheduled appointment for Hypertensive patients.\n",
    "print_(\"Hipertension\")\n",
    "bar_plots(\"Hipertension\", data=df[df[\"Hipertension\"]==1], title=\"Appointments Kept By Hypentensive Patients\")"
   ]
  },
  {
   "cell_type": "code",
   "execution_count": 36,
   "id": "2a2c9da1",
   "metadata": {},
   "outputs": [
    {
     "name": "stdout",
     "output_type": "stream",
     "text": [
      "Number of sheduled appointments for hypertensive patients: 21716, in which 17968 where kept and 3748 were not.\n"
     ]
    },
    {
     "data": {
      "image/png": "[encoded data removed]",
      "text/plain": [
       "<Figure size 576x432 with 1 Axes>"
      ]
     },
     "metadata": {},
     "output_type": "display_data"
    }
   ],
   "source": [
    "#Printing and visualizing the number of scheduled appointment for Hypertensive patients.\n",
    "print_(\"Hipertension\")\n",
    "bar_plots(\"Hipertension\", data=df[df[\"Hipertension\"]==1], title=\"Appointments Kept By Hypentensive Patients\")"
   ]
  },
  {
   "cell_type": "code",
   "execution_count": 37,
   "id": "957f4973",
   "metadata": {},
   "outputs": [
    {
     "name": "stdout",
     "output_type": "stream",
     "text": [
      "Number of sheduled appointments for diabetic patients: 7900, in which 6478 where kept and 1422 were not.\n"
     ]
    },
    {
     "data": {
      "image/png": "[encoded data removed]",
      "text/plain": [
       "<Figure size 576x432 with 1 Axes>"
      ]
     },
     "metadata": {},
     "output_type": "display_data"
    }
   ],
   "source": [
    "#Printing and visualizing the number of scheduled appointment for Diabetic patients.\n",
    "print_(\"Diabetes\")\n",
    "bar_plots(\"Diabetes\", data=df[df[\"Diabetes\"]==1], title=\"Appointments Kept By Diabetic Patients\")"
   ]
  },
  {
   "cell_type": "code",
   "execution_count": 38,
   "id": "ea823193",
   "metadata": {},
   "outputs": [
    {
     "name": "stdout",
     "output_type": "stream",
     "text": [
      "Number of sheduled appointments for alcoholic patients: 3352, in which 2677 where kept and 675 were not.\n"
     ]
    },
    {
     "data": {
      "image/png": "[encoded data removed]",
      "text/plain": [
       "<Figure size 576x432 with 1 Axes>"
      ]
     },
     "metadata": {},
     "output_type": "display_data"
    }
   ],
   "source": [
    "#Printing and visualizing the number of scheduled appointment for alcoholic patients.\n",
    "print_(\"Alcoholism\")\n",
    "bar_plots(\"Alcoholism\", data=df[df[\"Alcoholism\"]==1], title=\"Appointments Kept By Alcoholic Patients\")"
   ]
  },
  {
   "cell_type": "code",
   "execution_count": 39,
   "id": "2ae4fbbc",
   "metadata": {},
   "outputs": [
    {
     "name": "stdout",
     "output_type": "stream",
     "text": [
      "Number of sheduled appointments for handicapped patients: 2042, in which 1676 where kept and 366 were not.\n"
     ]
    },
    {
     "data": {
      "image/png": "[encoded data removed]",
      "text/plain": [
       "<Figure size 576x432 with 1 Axes>"
      ]
     },
     "metadata": {},
     "output_type": "display_data"
    }
   ],
   "source": [
    "print_(\"Handcap\")\n",
    "bar_plots(\"Handcap\", data=df[df[\"Handcap\"]==1], title=\"Appointments Kept By Handicapped Patients\")"
   ]
  },
  {
   "cell_type": "markdown",
   "id": "775c3362",
   "metadata": {},
   "source": [
    ">**Finding:** Patients with one or more critical health condition as seen above are generally more likely to show up for their appointments. However, Hypertensive patients are more likely to show up for their appointments compare to other patient. "
   ]
  },
  {
   "cell_type": "code",
   "execution_count": null,
   "id": "80c0e0f6",
   "metadata": {},
   "outputs": [],
   "source": []
  }
 ],
 "metadata": {
  "kernelspec": {
   "display_name": "Python 3 (ipykernel)",
   "language": "python",
   "name": "python3"
  },
  "language_info": {
   "codemirror_mode": {
    "name": "ipython",
    "version": 3
   },
   "file_extension": ".py",
   "mimetype": "text/x-python",
   "name": "python",
   "nbconvert_exporter": "python",
   "pygments_lexer": "ipython3",
   "version": "3.7.13"
  }
 },
 "nbformat": 4,
 "nbformat_minor": 5
}
